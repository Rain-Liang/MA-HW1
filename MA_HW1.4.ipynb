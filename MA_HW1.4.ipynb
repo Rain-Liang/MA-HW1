{
 "cells": [
  {
   "cell_type": "code",
   "execution_count": 1,
   "id": "0cef60bd",
   "metadata": {},
   "outputs": [],
   "source": [
    "import pandas as pd\n",
    "import numpy as np\n",
    "import math\n",
    "from math import log\n",
    "from statsmodels.stats.proportion import proportions_ztest, proportion_confint"
   ]
  },
  {
   "cell_type": "code",
   "execution_count": 2,
   "id": "a2504f51",
   "metadata": {},
   "outputs": [
    {
     "data": {
      "text/html": [
       "<div>\n",
       "<style scoped>\n",
       "    .dataframe tbody tr th:only-of-type {\n",
       "        vertical-align: middle;\n",
       "    }\n",
       "\n",
       "    .dataframe tbody tr th {\n",
       "        vertical-align: top;\n",
       "    }\n",
       "\n",
       "    .dataframe thead th {\n",
       "        text-align: right;\n",
       "    }\n",
       "</style>\n",
       "<table border=\"1\" class=\"dataframe\">\n",
       "  <thead>\n",
       "    <tr style=\"text-align: right;\">\n",
       "      <th></th>\n",
       "      <th>purchase_TF</th>\n",
       "      <th>Variant</th>\n",
       "      <th>date</th>\n",
       "      <th>id</th>\n",
       "    </tr>\n",
       "  </thead>\n",
       "  <tbody>\n",
       "    <tr>\n",
       "      <th>0</th>\n",
       "      <td>False</td>\n",
       "      <td>A</td>\n",
       "      <td>2019-11-08</td>\n",
       "      <td>0x25b44a</td>\n",
       "    </tr>\n",
       "    <tr>\n",
       "      <th>1</th>\n",
       "      <td>False</td>\n",
       "      <td>B</td>\n",
       "      <td>2020-08-27</td>\n",
       "      <td>0x46271e</td>\n",
       "    </tr>\n",
       "    <tr>\n",
       "      <th>2</th>\n",
       "      <td>False</td>\n",
       "      <td>A</td>\n",
       "      <td>2020-06-11</td>\n",
       "      <td>0x80b8f1</td>\n",
       "    </tr>\n",
       "    <tr>\n",
       "      <th>3</th>\n",
       "      <td>False</td>\n",
       "      <td>B</td>\n",
       "      <td>2020-08-22</td>\n",
       "      <td>0x8d736d</td>\n",
       "    </tr>\n",
       "    <tr>\n",
       "      <th>4</th>\n",
       "      <td>False</td>\n",
       "      <td>A</td>\n",
       "      <td>2020-08-05</td>\n",
       "      <td>0x96c9c8</td>\n",
       "    </tr>\n",
       "  </tbody>\n",
       "</table>\n",
       "</div>"
      ],
      "text/plain": [
       "   purchase_TF Variant        date        id\n",
       "0        False       A  2019-11-08  0x25b44a\n",
       "1        False       B  2020-08-27  0x46271e\n",
       "2        False       A  2020-06-11  0x80b8f1\n",
       "3        False       B  2020-08-22  0x8d736d\n",
       "4        False       A  2020-08-05  0x96c9c8"
      ]
     },
     "execution_count": 2,
     "metadata": {},
     "output_type": "execute_result"
    }
   ],
   "source": [
    "df = pd.read_csv(\"AB_test_data.csv\")\n",
    "df.head()"
   ]
  },
  {
   "cell_type": "markdown",
   "id": "90f4ae62",
   "metadata": {},
   "source": [
    "## Question1"
   ]
  },
  {
   "cell_type": "code",
   "execution_count": 3,
   "id": "df33e0bc",
   "metadata": {},
   "outputs": [],
   "source": [
    "Group_A = df.loc[df[\"Variant\"] == \"A\"]\n",
    "Group_B = df.loc[df[\"Variant\"] == \"B\"]"
   ]
  },
  {
   "cell_type": "code",
   "execution_count": 4,
   "id": "10775fc5",
   "metadata": {},
   "outputs": [],
   "source": [
    "Num_A = Group_A.shape[0]\n",
    "Num_B = Group_B.shape[0]"
   ]
  },
  {
   "cell_type": "code",
   "execution_count": 5,
   "id": "f7905b35",
   "metadata": {},
   "outputs": [],
   "source": [
    "Group_A_True = sum(Group_A[\"purchase_TF\"])\n",
    "Group_B_True = sum(Group_B[\"purchase_TF\"])"
   ]
  },
  {
   "cell_type": "markdown",
   "id": "ba2ca676",
   "metadata": {},
   "source": [
    "##### Conversion rate of Group A"
   ]
  },
  {
   "cell_type": "code",
   "execution_count": 6,
   "id": "68fe762c",
   "metadata": {},
   "outputs": [
    {
     "data": {
      "text/plain": [
       "0.149616"
      ]
     },
     "execution_count": 6,
     "metadata": {},
     "output_type": "execute_result"
    }
   ],
   "source": [
    "Group_A_conversion_rate = Group_A_True/Num_A\n",
    "Group_A_conversion_rate"
   ]
  },
  {
   "cell_type": "markdown",
   "id": "d2cf57b0",
   "metadata": {},
   "source": [
    "##### Conversion rate of Group B"
   ]
  },
  {
   "cell_type": "code",
   "execution_count": 7,
   "id": "d3443608",
   "metadata": {},
   "outputs": [
    {
     "data": {
      "text/plain": [
       "0.1766"
      ]
     },
     "execution_count": 7,
     "metadata": {},
     "output_type": "execute_result"
    }
   ],
   "source": [
    "Group_B_conversion_rate = Group_B_True/Num_B\n",
    "Group_B_conversion_rate"
   ]
  },
  {
   "cell_type": "code",
   "execution_count": 8,
   "id": "4517ca60",
   "metadata": {},
   "outputs": [
    {
     "name": "stdout",
     "output_type": "stream",
     "text": [
      "p-value: 0.0000000845\n"
     ]
    }
   ],
   "source": [
    "successes = [Group_A_True, Group_B_True]\n",
    "nobs = [Num_A, Num_B]\n",
    "\n",
    "z_stat, pval = proportions_ztest(successes, nobs=nobs,alternative=\"smaller\")\n",
    "print(f'p-value: {pval:.10f}') "
   ]
  },
  {
   "cell_type": "markdown",
   "id": "4172b544",
   "metadata": {},
   "source": [
    "#####  p-value < 0.05, which reject the null hypothesis and alternative B improved conversion rate"
   ]
  },
  {
   "cell_type": "markdown",
   "id": "1c2e6913",
   "metadata": {},
   "source": [
    "## Question 2"
   ]
  },
  {
   "cell_type": "code",
   "execution_count": 17,
   "id": "0d89a6c9",
   "metadata": {},
   "outputs": [
    {
     "data": {
      "text/plain": [
       "0.15065384615384617"
      ]
     },
     "execution_count": 17,
     "metadata": {},
     "output_type": "execute_result"
    }
   ],
   "source": [
    "P_bar = (Group_A_True+Group_B_True)/(Num_A+Num_B)\n",
    "P_bar"
   ]
  },
  {
   "cell_type": "code",
   "execution_count": 18,
   "id": "d16d08a8",
   "metadata": {},
   "outputs": [
    {
     "data": {
      "text/plain": [
       "2157"
      ]
     },
     "execution_count": 18,
     "metadata": {},
     "output_type": "execute_result"
    }
   ],
   "source": [
    "def cal_opt_sample_size(P_a,P_b,P): \n",
    "    return (1/(P_b-P_a)**2)*(2.1*(2*P*(1-P))**0.5+0.7*(P_a*(1-P_a)+P_b*(1-P_b)))**2\n",
    "\n",
    "opt_sample_size = round(cal_opt_sample_size(Group_A_conversion_rate,Group_B_conversion_rate,P_bar)+0.5)\n",
    "opt_sample_size"
   ]
  },
  {
   "cell_type": "code",
   "execution_count": 22,
   "id": "1eb6a0c1",
   "metadata": {},
   "outputs": [
    {
     "name": "stdout",
     "output_type": "stream",
     "text": [
      "sample 1\n",
      "p-value: 0.0040543055\n",
      "z-score: -2.6475135492\n",
      "sample 2\n",
      "p-value: 0.0000003258\n",
      "z-score: -4.9752380683\n",
      "sample 3\n",
      "p-value: 0.0002473989\n",
      "z-score: -3.4835569736\n",
      "sample 4\n",
      "p-value: 0.0000224770\n",
      "z-score: -4.0804220700\n",
      "sample 5\n",
      "p-value: 0.0000102474\n",
      "z-score: -4.2594314815\n",
      "sample 6\n",
      "p-value: 0.0000777799\n",
      "z-score: -3.7820216595\n",
      "sample 7\n",
      "p-value: 0.0002473989\n",
      "z-score: -3.4835569736\n",
      "sample 8\n",
      "p-value: 0.0000001274\n",
      "z-score: -5.1541319954\n",
      "sample 9\n",
      "p-value: 0.0010861746\n",
      "z-score: -3.0655983503\n",
      "sample 10\n",
      "p-value: 0.0000373074\n",
      "z-score: -3.9610696162\n"
     ]
    }
   ],
   "source": [
    "sample_list = []\n",
    "results = []\n",
    "for i in range(0,10):\n",
    "    df_temp = df[df[\"Variant\"] == \"B\"].sample(opt_sample_size)\n",
    "    sample_list.append(df_temp)\n",
    "\n",
    "    Num_B_temp = df_temp.shape[0]\n",
    "    Group_B_True_temp = sum(df_temp[\"purchase_TF\"])\n",
    "    B_rate = Group_B_True_temp/Num_B_temp\n",
    "    \n",
    "    successes = [Group_A_True, Group_B_True_temp]\n",
    "    nobs = [Num_A, Num_B_temp]\n",
    "\n",
    "    z_stat, pval = proportions_ztest(successes, nobs=nobs,alternative=\"smaller\")\n",
    "    results.append(pval)\n",
    "    print('sample '+ str(i+1))\n",
    "    print(f'p-value: {pval:.10f}') \n",
    "    print(f'z-score: {z_stat:.10f}') "
   ]
  },
  {
   "cell_type": "markdown",
   "id": "316bb90b",
   "metadata": {},
   "source": [
    "## Question 3"
   ]
  },
  {
   "cell_type": "code",
   "execution_count": 23,
   "id": "2ccb99e9",
   "metadata": {},
   "outputs": [],
   "source": [
    "iteration = []\n",
    "ln_A = log(1/0.05)\n",
    "ln_B = log(0.2)"
   ]
  },
  {
   "cell_type": "code",
   "execution_count": 24,
   "id": "5cff0a1f",
   "metadata": {},
   "outputs": [
    {
     "name": "stdout",
     "output_type": "stream",
     "text": [
      "For sample 1 , accept H1 and iteration is  1348\n",
      "For sample 2 , accept H1 and iteration is  77\n",
      "For sample 3 , accept H1 and iteration is  1097\n",
      "For sample 4 , accept H1 and iteration is  526\n",
      "For sample 5 , accept H1 and iteration is  628\n",
      "For sample 6 , accept H1 and iteration is  1058\n",
      "For sample 7 , accept H1 and iteration is  1391\n",
      "For sample 8 , accept H1 and iteration is  126\n",
      "For sample 9 , accept H1 and iteration is  811\n",
      "For sample 10 , accept H0 and iteration is  457\n"
     ]
    }
   ],
   "source": [
    "for i in range(10):\n",
    "    sample = sample_list[i]\n",
    "    lambda_n = 0\n",
    "    n = 0\n",
    "    for j in range(opt_sample_size):\n",
    "        #sample_mean = sample.loc[sample[\"Variant\"] == \"B\"][\"purchase_TF\"].mean()\n",
    "        sample_mean = sample[\"purchase_TF\"].mean()\n",
    "        lambda_0 = log((1-sample_mean)/(1-Group_A_conversion_rate))\n",
    "        lambda_1 = log((sample_mean)/(Group_A_conversion_rate))\n",
    "        if sample[\"purchase_TF\"].iloc[j] == True:\n",
    "            lambda_n = lambda_n + lambda_1\n",
    "        else:\n",
    "            lambda_n = lambda_n + lambda_0\n",
    "        if lambda_n > ln_B and lambda_n < ln_A:\n",
    "            n = n + 1\n",
    "        elif lambda_n <= ln_B:\n",
    "            print('For sample',i+1,', accept H0 and iteration is ',n+1)\n",
    "            iteration.append(n)\n",
    "            break\n",
    "        elif lambda_n >= ln_A:\n",
    "            print('For sample',i+1,', accept H1 and iteration is ',n+1)\n",
    "            iteration.append(n)\n",
    "            break"
   ]
  },
  {
   "cell_type": "code",
   "execution_count": 16,
   "id": "8e1a759f",
   "metadata": {},
   "outputs": [
    {
     "data": {
      "text/plain": [
       "[892,\n",
       " 239,\n",
       " 145,\n",
       " 198,\n",
       " 1331,\n",
       " 893,\n",
       " 1148,\n",
       " 694,\n",
       " 791,\n",
       " 252,\n",
       " 892,\n",
       " 239,\n",
       " 145,\n",
       " 198,\n",
       " 1331,\n",
       " 893,\n",
       " 1148,\n",
       " 694,\n",
       " 791,\n",
       " 252,\n",
       " 892,\n",
       " 239,\n",
       " 145,\n",
       " 198,\n",
       " 1331,\n",
       " 893,\n",
       " 1148,\n",
       " 694,\n",
       " 791,\n",
       " 252]"
      ]
     },
     "execution_count": 16,
     "metadata": {},
     "output_type": "execute_result"
    }
   ],
   "source": [
    "iteration"
   ]
  },
  {
   "cell_type": "code",
   "execution_count": null,
   "id": "9c406a85",
   "metadata": {},
   "outputs": [],
   "source": []
  }
 ],
 "metadata": {
  "kernelspec": {
   "display_name": "Python 3",
   "language": "python",
   "name": "python3"
  },
  "language_info": {
   "codemirror_mode": {
    "name": "ipython",
    "version": 3
   },
   "file_extension": ".py",
   "mimetype": "text/x-python",
   "name": "python",
   "nbconvert_exporter": "python",
   "pygments_lexer": "ipython3",
   "version": "3.8.8"
  }
 },
 "nbformat": 4,
 "nbformat_minor": 5
}
